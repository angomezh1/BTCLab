{
 "cells": [
  {
   "cell_type": "code",
   "execution_count": 2,
   "metadata": {},
   "outputs": [],
   "source": [
    "import time\n",
    "import pandas as pd\n",
    "from typing import List\n",
    "from datetime import datetime\n",
    "import utils\n",
    "import ccxt\n",
    "from datetime import datetime, timedelta\n"
   ]
  },
  {
   "cell_type": "code",
   "execution_count": 3,
   "metadata": {},
   "outputs": [
    {
     "ename": "FileNotFoundError",
     "evalue": "[Errno 2] No such file or directory: './btclab/config.yaml'",
     "output_type": "error",
     "traceback": [
      "\u001b[0;31m---------------------------------------------------------------------------\u001b[0m",
      "\u001b[0;31mFileNotFoundError\u001b[0m                         Traceback (most recent call last)",
      "\u001b[0;32m<ipython-input-3-9cf783ca6093>\u001b[0m in \u001b[0;36m<module>\u001b[0;34m\u001b[0m\n\u001b[1;32m     46\u001b[0m \u001b[0;34m\u001b[0m\u001b[0m\n\u001b[1;32m     47\u001b[0m \u001b[0;32mif\u001b[0m \u001b[0m__name__\u001b[0m \u001b[0;34m==\u001b[0m \u001b[0;34m'__main__'\u001b[0m\u001b[0;34m:\u001b[0m\u001b[0;34m\u001b[0m\u001b[0;34m\u001b[0m\u001b[0m\n\u001b[0;32m---> 48\u001b[0;31m     \u001b[0mconfig\u001b[0m \u001b[0;34m=\u001b[0m \u001b[0mutils\u001b[0m\u001b[0;34m.\u001b[0m\u001b[0mget_config\u001b[0m\u001b[0;34m(\u001b[0m\u001b[0;34m)\u001b[0m\u001b[0;34m\u001b[0m\u001b[0;34m\u001b[0m\u001b[0m\n\u001b[0m\u001b[1;32m     49\u001b[0m     \u001b[0;32mimport\u001b[0m \u001b[0mos\u001b[0m\u001b[0;34m\u001b[0m\u001b[0;34m\u001b[0m\u001b[0m\n\u001b[1;32m     50\u001b[0m     binance = ccxt.binance(\n",
      "\u001b[0;32m~/Maestria/BTCLab/btclab/utils.py\u001b[0m in \u001b[0;36mget_config\u001b[0;34m(file_name)\u001b[0m\n\u001b[1;32m     25\u001b[0m \u001b[0;32mdef\u001b[0m \u001b[0mget_config\u001b[0m\u001b[0;34m(\u001b[0m\u001b[0mfile_name\u001b[0m\u001b[0;34m=\u001b[0m\u001b[0;34m\"./btclab/config.yaml\"\u001b[0m\u001b[0;34m)\u001b[0m \u001b[0;34m->\u001b[0m \u001b[0mdict\u001b[0m\u001b[0;34m:\u001b[0m\u001b[0;34m\u001b[0m\u001b[0;34m\u001b[0m\u001b[0m\n\u001b[1;32m     26\u001b[0m     \u001b[0mto_ret\u001b[0m \u001b[0;34m=\u001b[0m \u001b[0;32mNone\u001b[0m\u001b[0;34m\u001b[0m\u001b[0;34m\u001b[0m\u001b[0m\n\u001b[0;32m---> 27\u001b[0;31m     \u001b[0;32mwith\u001b[0m \u001b[0mopen\u001b[0m\u001b[0;34m(\u001b[0m\u001b[0mfile_name\u001b[0m\u001b[0;34m,\u001b[0m \u001b[0;34m\"r\"\u001b[0m\u001b[0;34m)\u001b[0m \u001b[0;32mas\u001b[0m \u001b[0mstream\u001b[0m\u001b[0;34m:\u001b[0m\u001b[0;34m\u001b[0m\u001b[0;34m\u001b[0m\u001b[0m\n\u001b[0m\u001b[1;32m     28\u001b[0m         \u001b[0;32mtry\u001b[0m\u001b[0;34m:\u001b[0m\u001b[0;34m\u001b[0m\u001b[0;34m\u001b[0m\u001b[0m\n\u001b[1;32m     29\u001b[0m             \u001b[0mto_ret\u001b[0m \u001b[0;34m=\u001b[0m \u001b[0myaml\u001b[0m\u001b[0;34m.\u001b[0m\u001b[0msafe_load\u001b[0m\u001b[0;34m(\u001b[0m\u001b[0mstream\u001b[0m\u001b[0;34m)\u001b[0m\u001b[0;34m\u001b[0m\u001b[0;34m\u001b[0m\u001b[0m\n",
      "\u001b[0;31mFileNotFoundError\u001b[0m: [Errno 2] No such file or directory: './btclab/config.yaml'"
     ]
    }
   ],
   "source": [
    "def get_data(exchange, symbols: List[str], num_of_days: int = 1000) -> dict:\n",
    "    \"\"\"Returns a dictionary with OHLCV data for the last num_of_days of each symbol\n",
    "    Data for each days is a list with: [timestamp, open, high, low, close, volume]\n",
    "    Max 1000 days of data per symbol will be returned\n",
    "    \n",
    "    i.e. \n",
    "    {\n",
    "        \"ADA/USDT\": [\n",
    "            [1534723200000, 0.10131, 0.10299, 0.09159, 0.09174, 135267717.6],\n",
    "            [1534809600000, 0.09203, 0.09541, 0.09001, 0.09469, 132327843.8],\n",
    "            ...\n",
    "            [1534982400000, 0.08926, 0.0942, 0.08835, 0.09232, 127991686.6]\n",
    "        ],\n",
    "        \"DOT/USDT\": [\n",
    "            [1620086400000, 1.3627, 1.3673, 1.2557, 1.2698, 421500877.62],\n",
    "            [1620259200000, 1.4799, 1.7, 1.4288, 1.6491, 1342973403.72],\n",
    "            ...\n",
    "            [1534982400000, 0.08926, 0.0942, 0.08835, 0.09232, 127991686.6]\n",
    "        ]\n",
    "    }\n",
    "    \"\"\"\n",
    "\n",
    "    data = {}\n",
    "    if exchange.has['fetchOHLCV']:\n",
    "        for symbol in symbols:\n",
    "            time.sleep (exchange.rateLimit / 1000) # time.sleep wants seconds\n",
    "            data[symbol] = exchange.fetch_ohlcv(symbol, '1d', limit=num_of_days)\n",
    "\n",
    "    return data\n",
    "\n",
    "\n",
    "def get_close_prices(exchange, symbols: List[str], num_of_days: int) -> pd.DataFrame:\n",
    "    \"\"\"Returns a Pandas dataframe with close prices for the symbols provided\"\"\"\n",
    "    data = get_data(exchange, symbols, num_of_days)\n",
    "    \n",
    "    df = pd.DataFrame(columns=data.keys())\n",
    "    for symbol in data:\n",
    "        for ohlcv_row in data[symbol]:\n",
    "            posix_timestamp = ohlcv_row[0]/1000\n",
    "            date = datetime.fromtimestamp(posix_timestamp).date()\n",
    "            close_price = ohlcv_row[3]\n",
    "            df.loc[date, symbol] = close_price\n",
    "    \n",
    "    return df\n",
    "\n",
    "\n",
    "if __name__ == '__main__':\n",
    "    config = utils.get_config()\n",
    "    import os\n",
    "    binance = ccxt.binance(\n",
    "        {\n",
    "            'apiKey': os.environ.get('BINANCE_API_KEY'),\n",
    "            'secret': os.environ.get('BINANCE_API_SECRET'),\n",
    "            'enableRateLimit': True,\n",
    "        }\n",
    "    )\n",
    "    \n",
    "    df = get_close_prices(binance, ['ADA/USDT', 'DOT/USDT', 'BTC/USDT'], 300)\n",
    "    print(df.tail(15))"
   ]
  },
  {
   "cell_type": "code",
   "execution_count": null,
   "metadata": {},
   "outputs": [],
   "source": []
  }
 ],
 "metadata": {
  "kernelspec": {
   "display_name": "Python 3",
   "language": "python",
   "name": "python3"
  },
  "language_info": {
   "codemirror_mode": {
    "name": "ipython",
    "version": 3
   },
   "file_extension": ".py",
   "mimetype": "text/x-python",
   "name": "python",
   "nbconvert_exporter": "python",
   "pygments_lexer": "ipython3",
   "version": "3.7.6"
  }
 },
 "nbformat": 4,
 "nbformat_minor": 2
}
